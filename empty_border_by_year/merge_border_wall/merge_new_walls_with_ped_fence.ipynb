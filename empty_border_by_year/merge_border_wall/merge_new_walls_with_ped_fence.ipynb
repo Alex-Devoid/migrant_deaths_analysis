{
 "cells": [
  {
   "cell_type": "code",
   "execution_count": 6,
   "id": "d9db2946",
   "metadata": {},
   "outputs": [
    {
     "name": "stdout",
     "output_type": "stream",
     "text": [
      "['obp_baseline_ti_ped_fence_LIMIT_GOV_USE', 'obp_baseline_ti_veh_barrier_LIMIT_GOV_USE']\n",
      "len(df_new_Arizona):\n",
      "39\n",
      "<class 'str'>\n",
      "1998 EST\n"
     ]
    },
    {
     "name": "stderr",
     "output_type": "stream",
     "text": [
      "/Users/adevoid/opt/anaconda3/lib/python3.7/site-packages/geopandas/geodataframe.py:1351: SettingWithCopyWarning: \n",
      "A value is trying to be set on a copy of a slice from a DataFrame.\n",
      "Try using .loc[row_indexer,col_indexer] = value instead\n",
      "\n",
      "See the caveats in the documentation: https://pandas.pydata.org/pandas-docs/stable/user_guide/indexing.html#returning-a-view-versus-a-copy\n",
      "  super().__setitem__(key, value)\n"
     ]
    },
    {
     "name": "stdout",
     "output_type": "stream",
     "text": [
      "done\n"
     ]
    }
   ],
   "source": [
    "from matplotlib import pyplot as plt\n",
    "\n",
    "\n",
    "\n",
    "import numpy as np\n",
    "import pandas as pd\n",
    "import geopandas as gpd\n",
    "\n",
    "import fiona\n",
    "\n",
    "#Append new wall to old wall \n",
    "print(fiona.listlayers('../migrant_deaths_analysis/empty_border_by_year/merge_border_wall/border_inewsource/01-ORIGINAL.gdb'))\n",
    "\n",
    "#pedestrian inewsourc barriers\n",
    "df = gpd.read_file('../migrant_deaths_analysis/empty_border_by_year/merge_border_wall/border_inewsource/01-ORIGINAL.gdb', driver='FileGDB',layer=0)\n",
    "\n",
    "#all new Trump border wall\n",
    "df_new = gpd.read_file('../migrant_deaths_analysis/empty_border_by_year/merge_border_wall/tump_wall/Walls_Updated_8_24_21.geojson')\n",
    "\n",
    "#Arizona shapefile\n",
    "Arizona = gpd.read_file('../migrant_deaths_analysis/empty_border_by_year/merge_border_wall/arizona_bounds/acs2019_1yr_B01003_04000US04.geojson')\n",
    "\n",
    "#all new Trump border wall in Arizona\n",
    "# df_new_Arizona = gpd.sjoin(df_new, Arizona, how=\"inner\", op='intersects')\n",
    "\n",
    "df_new_Arizona=df_new[(df_new['DATE_IN1']==2020)|(df_new['DATE_IN1']==2019)]\n",
    "print('len(df_new_Arizona):')\n",
    "print(len(df_new_Arizona))\n",
    "\n",
    "#clean year\n",
    "df['DATE_IN'].value_counts(dropna=False).to_frame()\n",
    "df['DATE_IN1'] =df['DATE_IN'].str[:4]\n",
    "print(type(df['DATE_IN'][2]))\n",
    "print(df['DATE_IN'][2])\n",
    "df['DATE_IN1'] = pd.to_numeric(df['DATE_IN1'], errors='coerce').fillna(0).astype(np.int64)\n",
    "\n",
    "#add state to new walls in arizona\n",
    "df_new_Arizona['STATE_ABBR'] = 'AZ'\n",
    "\n",
    "\n",
    "\n",
    "#add year to new walls in arizona\n",
    "\n",
    "\n",
    "df=df.append(df_new_Arizona)\n",
    "\n",
    "\n",
    "\n",
    "df['FNC_TYPE']=df['FNC_TYPE'].fillna(value='None')\n",
    "\n",
    "df.to_file('../migrant_deaths/border inewsource/all_wall_Arizona.geojson', driver='GeoJSON')\n",
    "\n",
    "print('done')\n",
    "\n"
   ]
  },
  {
   "cell_type": "code",
   "execution_count": null,
   "id": "15f65dea",
   "metadata": {},
   "outputs": [],
   "source": []
  },
  {
   "cell_type": "code",
   "execution_count": null,
   "id": "a03e8667",
   "metadata": {},
   "outputs": [],
   "source": []
  },
  {
   "cell_type": "code",
   "execution_count": null,
   "id": "21c570b0",
   "metadata": {},
   "outputs": [],
   "source": []
  }
 ],
 "metadata": {
  "kernelspec": {
   "display_name": "Python 3",
   "language": "python",
   "name": "python3"
  },
  "language_info": {
   "codemirror_mode": {
    "name": "ipython",
    "version": 3
   },
   "file_extension": ".py",
   "mimetype": "text/x-python",
   "name": "python",
   "nbconvert_exporter": "python",
   "pygments_lexer": "ipython3",
   "version": "3.7.10"
  }
 },
 "nbformat": 4,
 "nbformat_minor": 5
}
